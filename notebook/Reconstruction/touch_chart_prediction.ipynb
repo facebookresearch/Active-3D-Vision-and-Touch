{
 "cells": [
  {
   "cell_type": "markdown",
   "metadata": {},
   "source": [
    "<h1>Touch Chart Reconstruction Examples</h1>"
   ]
  },
  {
   "cell_type": "markdown",
   "metadata": {},
   "source": [
    "This shows how to train and evaluate the touch chart the reconstruction models."
   ]
  },
  {
   "cell_type": "markdown",
   "metadata": {},
   "source": [
    "<h2> 1. Touch Chart - Training </h2>"
   ]
  },
  {
   "cell_type": "code",
   "execution_count": 2,
   "metadata": {
    "pycharm": {
     "name": "#%%\n"
    }
   },
   "outputs": [
    {
     "name": "stderr",
     "output_type": "stream",
     "text": [
      "100%|█████████████████████████████████████████████████████████████████████████| 26782/26782 [00:18<00:00, 1414.29it/s]\n"
     ]
    },
    {
     "name": "stdout",
     "output_type": "stream",
     "text": [
      "The number of recon_train set objects found : 9785\n"
     ]
    },
    {
     "name": "stderr",
     "output_type": "stream",
     "text": [
      "100%|████████████████████████████████████████████████████████████████████████| 26782/26782 [00:01<00:00, 16121.49it/s]\n"
     ]
    },
    {
     "name": "stdout",
     "output_type": "stream",
     "text": [
      "The number of valid set objects found : 9785\n"
     ]
    },
    {
     "name": "stderr",
     "output_type": "stream",
     "text": [
      "  1%|█                                                                                 | 1/77 [00:03<04:02,  3.19s/it]"
     ]
    },
    {
     "name": "stdout",
     "output_type": "stream",
     "text": [
      "Train || Epoch: 0,  loss: 42.25598 || best_loss:  10000.00000\n"
     ]
    },
    {
     "name": "stderr",
     "output_type": "stream",
     "text": [
      "  3%|██▏                                                                               | 2/77 [00:03<01:47,  1.44s/it]"
     ]
    },
    {
     "name": "stdout",
     "output_type": "stream",
     "text": [
      "Train || Epoch: 0,  loss: 31.35468 || best_loss:  10000.00000\n"
     ]
    },
    {
     "name": "stderr",
     "output_type": "stream",
     "text": [
      "  5%|████▎                                                                             | 4/77 [00:03<00:44,  1.66it/s]"
     ]
    },
    {
     "name": "stdout",
     "output_type": "stream",
     "text": [
      "Train || Epoch: 0,  loss: 25.78898 || best_loss:  10000.00000\n",
      "Train || Epoch: 0,  loss: 23.02783 || best_loss:  10000.00000\n"
     ]
    },
    {
     "name": "stderr",
     "output_type": "stream",
     "text": [
      "  6%|█████▎                                                                            | 5/77 [00:03<00:32,  2.19it/s]"
     ]
    },
    {
     "name": "stdout",
     "output_type": "stream",
     "text": [
      "Train || Epoch: 0,  loss: 20.16741 || best_loss:  10000.00000\n"
     ]
    },
    {
     "name": "stderr",
     "output_type": "stream",
     "text": [
      "  9%|███████▍                                                                          | 7/77 [00:04<00:22,  3.06it/s]"
     ]
    },
    {
     "name": "stdout",
     "output_type": "stream",
     "text": [
      "Train || Epoch: 0,  loss: 17.53113 || best_loss:  10000.00000\n",
      "Train || Epoch: 0,  loss: 15.48730 || best_loss:  10000.00000\n"
     ]
    },
    {
     "name": "stderr",
     "output_type": "stream",
     "text": [
      " 12%|█████████▌                                                                        | 9/77 [00:04<00:17,  3.88it/s]"
     ]
    },
    {
     "name": "stdout",
     "output_type": "stream",
     "text": [
      "Train || Epoch: 0,  loss: 13.89938 || best_loss:  10000.00000\n",
      "Train || Epoch: 0,  loss: 13.01010 || best_loss:  10000.00000\n"
     ]
    },
    {
     "name": "stderr",
     "output_type": "stream",
     "text": [
      " 14%|███████████▌                                                                     | 11/77 [00:05<00:14,  4.41it/s]"
     ]
    },
    {
     "name": "stdout",
     "output_type": "stream",
     "text": [
      "Train || Epoch: 0,  loss: 11.81986 || best_loss:  10000.00000\n",
      "Train || Epoch: 0,  loss: 10.99874 || best_loss:  10000.00000\n"
     ]
    },
    {
     "name": "stderr",
     "output_type": "stream",
     "text": [
      " 17%|█████████████▋                                                                   | 13/77 [00:05<00:13,  4.73it/s]"
     ]
    },
    {
     "name": "stdout",
     "output_type": "stream",
     "text": [
      "Train || Epoch: 0,  loss: 10.45248 || best_loss:  10000.00000\n",
      "Train || Epoch: 0,  loss: 10.03183 || best_loss:  10000.00000\n"
     ]
    },
    {
     "name": "stderr",
     "output_type": "stream",
     "text": [
      " 19%|███████████████▊                                                                 | 15/77 [00:06<00:12,  4.90it/s]"
     ]
    },
    {
     "name": "stdout",
     "output_type": "stream",
     "text": [
      "Train || Epoch: 0,  loss: 9.30094 || best_loss:  10000.00000\n",
      "Train || Epoch: 0,  loss: 8.91492 || best_loss:  10000.00000\n"
     ]
    },
    {
     "name": "stderr",
     "output_type": "stream",
     "text": [
      " 21%|████████████████▊                                                                | 16/77 [00:06<00:12,  4.96it/s]"
     ]
    },
    {
     "name": "stdout",
     "output_type": "stream",
     "text": [
      "Train || Epoch: 0,  loss: 8.39290 || best_loss:  10000.00000\n"
     ]
    },
    {
     "name": "stderr",
     "output_type": "stream",
     "text": [
      " 23%|██████████████████▉                                                              | 18/77 [00:06<00:11,  4.93it/s]"
     ]
    },
    {
     "name": "stdout",
     "output_type": "stream",
     "text": [
      "Train || Epoch: 0,  loss: 7.96015 || best_loss:  10000.00000\n",
      "Train || Epoch: 0,  loss: 7.62572 || best_loss:  10000.00000\n"
     ]
    },
    {
     "name": "stderr",
     "output_type": "stream",
     "text": [
      " 26%|█████████████████████                                                            | 20/77 [00:07<00:11,  4.99it/s]"
     ]
    },
    {
     "name": "stdout",
     "output_type": "stream",
     "text": [
      "Train || Epoch: 0,  loss: 7.28623 || best_loss:  10000.00000\n",
      "Train || Epoch: 0,  loss: 6.79895 || best_loss:  10000.00000\n"
     ]
    },
    {
     "name": "stderr",
     "output_type": "stream",
     "text": [
      " 27%|██████████████████████                                                           | 21/77 [00:07<00:11,  5.01it/s]"
     ]
    },
    {
     "name": "stdout",
     "output_type": "stream",
     "text": [
      "Train || Epoch: 0,  loss: 6.46935 || best_loss:  10000.00000\n"
     ]
    },
    {
     "name": "stderr",
     "output_type": "stream",
     "text": [
      " 30%|████████████████████████▏                                                        | 23/77 [00:07<00:10,  5.02it/s]"
     ]
    },
    {
     "name": "stdout",
     "output_type": "stream",
     "text": [
      "Train || Epoch: 0,  loss: 5.97910 || best_loss:  10000.00000\n",
      "Train || Epoch: 0,  loss: 5.69568 || best_loss:  10000.00000\n"
     ]
    },
    {
     "name": "stderr",
     "output_type": "stream",
     "text": [
      " 32%|██████████████████████████▎                                                      | 25/77 [00:08<00:10,  5.06it/s]"
     ]
    },
    {
     "name": "stdout",
     "output_type": "stream",
     "text": [
      "Train || Epoch: 0,  loss: 5.54118 || best_loss:  10000.00000\n",
      "Train || Epoch: 0,  loss: 5.15837 || best_loss:  10000.00000\n"
     ]
    },
    {
     "name": "stderr",
     "output_type": "stream",
     "text": [
      " 35%|████████████████████████████▍                                                    | 27/77 [00:08<00:09,  5.07it/s]"
     ]
    },
    {
     "name": "stdout",
     "output_type": "stream",
     "text": [
      "Train || Epoch: 0,  loss: 4.89897 || best_loss:  10000.00000\n",
      "Train || Epoch: 0,  loss: 4.66267 || best_loss:  10000.00000\n"
     ]
    },
    {
     "name": "stderr",
     "output_type": "stream",
     "text": [
      " 38%|██████████████████████████████▌                                                  | 29/77 [00:08<00:09,  5.07it/s]"
     ]
    },
    {
     "name": "stdout",
     "output_type": "stream",
     "text": [
      "Train || Epoch: 0,  loss: 4.21038 || best_loss:  10000.00000\n",
      "Train || Epoch: 0,  loss: 4.04001 || best_loss:  10000.00000\n"
     ]
    },
    {
     "name": "stderr",
     "output_type": "stream",
     "text": [
      " 40%|████████████████████████████████▌                                                | 31/77 [00:09<00:09,  5.07it/s]"
     ]
    },
    {
     "name": "stdout",
     "output_type": "stream",
     "text": [
      "Train || Epoch: 0,  loss: 3.83421 || best_loss:  10000.00000\n",
      "Train || Epoch: 0,  loss: 3.59085 || best_loss:  10000.00000\n"
     ]
    },
    {
     "name": "stderr",
     "output_type": "stream",
     "text": [
      " 42%|█████████████████████████████████▋                                               | 32/77 [00:09<00:08,  5.08it/s]"
     ]
    },
    {
     "name": "stdout",
     "output_type": "stream",
     "text": [
      "Train || Epoch: 0,  loss: 3.32597 || best_loss:  10000.00000\n"
     ]
    },
    {
     "name": "stderr",
     "output_type": "stream",
     "text": [
      " 44%|███████████████████████████████████▊                                             | 34/77 [00:09<00:08,  4.97it/s]"
     ]
    },
    {
     "name": "stdout",
     "output_type": "stream",
     "text": [
      "Train || Epoch: 0,  loss: 3.20561 || best_loss:  10000.00000\n",
      "Train || Epoch: 0,  loss: 3.01924 || best_loss:  10000.00000\n"
     ]
    },
    {
     "name": "stderr",
     "output_type": "stream",
     "text": [
      " 47%|█████████████████████████████████████▊                                           | 36/77 [00:10<00:08,  5.06it/s]"
     ]
    },
    {
     "name": "stdout",
     "output_type": "stream",
     "text": [
      "Train || Epoch: 0,  loss: 2.78526 || best_loss:  10000.00000\n",
      "Train || Epoch: 0,  loss: 2.75402 || best_loss:  10000.00000\n"
     ]
    },
    {
     "name": "stderr",
     "output_type": "stream",
     "text": [
      " 49%|███████████████████████████████████████▉                                         | 38/77 [00:10<00:07,  5.08it/s]"
     ]
    },
    {
     "name": "stdout",
     "output_type": "stream",
     "text": [
      "Train || Epoch: 0,  loss: 2.58850 || best_loss:  10000.00000\n",
      "Train || Epoch: 0,  loss: 2.34739 || best_loss:  10000.00000\n"
     ]
    },
    {
     "name": "stderr",
     "output_type": "stream",
     "text": [
      " 52%|██████████████████████████████████████████                                       | 40/77 [00:10<00:07,  5.12it/s]"
     ]
    },
    {
     "name": "stdout",
     "output_type": "stream",
     "text": [
      "Train || Epoch: 0,  loss: 2.18780 || best_loss:  10000.00000\n",
      "Train || Epoch: 0,  loss: 2.05204 || best_loss:  10000.00000\n"
     ]
    },
    {
     "name": "stderr",
     "output_type": "stream",
     "text": [
      " 55%|████████████████████████████████████████████▏                                    | 42/77 [00:11<00:06,  5.12it/s]"
     ]
    },
    {
     "name": "stdout",
     "output_type": "stream",
     "text": [
      "Train || Epoch: 0,  loss: 1.90594 || best_loss:  10000.00000\n",
      "Train || Epoch: 0,  loss: 1.83172 || best_loss:  10000.00000\n"
     ]
    },
    {
     "name": "stderr",
     "output_type": "stream",
     "text": [
      " 57%|██████████████████████████████████████████████▎                                  | 44/77 [00:11<00:06,  5.11it/s]"
     ]
    },
    {
     "name": "stdout",
     "output_type": "stream",
     "text": [
      "Train || Epoch: 0,  loss: 1.62693 || best_loss:  10000.00000\n",
      "Train || Epoch: 0,  loss: 1.55553 || best_loss:  10000.00000\n"
     ]
    },
    {
     "name": "stderr",
     "output_type": "stream",
     "text": [
      " 60%|████████████████████████████████████████████████▍                                | 46/77 [00:12<00:06,  5.12it/s]"
     ]
    },
    {
     "name": "stdout",
     "output_type": "stream",
     "text": [
      "Train || Epoch: 0,  loss: 1.49768 || best_loss:  10000.00000\n",
      "Train || Epoch: 0,  loss: 1.29893 || best_loss:  10000.00000\n"
     ]
    },
    {
     "name": "stderr",
     "output_type": "stream",
     "text": [
      " 62%|██████████████████████████████████████████████████▍                              | 48/77 [00:12<00:05,  5.12it/s]"
     ]
    },
    {
     "name": "stdout",
     "output_type": "stream",
     "text": [
      "Train || Epoch: 0,  loss: 1.28095 || best_loss:  10000.00000\n",
      "Train || Epoch: 0,  loss: 1.17633 || best_loss:  10000.00000\n"
     ]
    },
    {
     "name": "stderr",
     "output_type": "stream",
     "text": [
      " 65%|████████████████████████████████████████████████████▌                            | 50/77 [00:12<00:05,  4.98it/s]"
     ]
    },
    {
     "name": "stdout",
     "output_type": "stream",
     "text": [
      "Train || Epoch: 0,  loss: 0.98427 || best_loss:  10000.00000\n",
      "Train || Epoch: 0,  loss: 1.01323 || best_loss:  10000.00000\n"
     ]
    },
    {
     "name": "stderr",
     "output_type": "stream",
     "text": [
      " 68%|██████████████████████████████████████████████████████▋                          | 52/77 [00:13<00:04,  5.04it/s]"
     ]
    },
    {
     "name": "stdout",
     "output_type": "stream",
     "text": [
      "Train || Epoch: 0,  loss: 0.85485 || best_loss:  10000.00000\n",
      "Train || Epoch: 0,  loss: 0.89169 || best_loss:  10000.00000\n"
     ]
    },
    {
     "name": "stderr",
     "output_type": "stream",
     "text": [
      " 70%|████████████████████████████████████████████████████████▊                        | 54/77 [00:13<00:04,  5.09it/s]"
     ]
    },
    {
     "name": "stdout",
     "output_type": "stream",
     "text": [
      "Train || Epoch: 0,  loss: 0.75663 || best_loss:  10000.00000\n",
      "Train || Epoch: 0,  loss: 0.73733 || best_loss:  10000.00000\n"
     ]
    },
    {
     "name": "stderr",
     "output_type": "stream",
     "text": [
      " 73%|██████████████████████████████████████████████████████████▉                      | 56/77 [00:14<00:04,  5.14it/s]"
     ]
    },
    {
     "name": "stdout",
     "output_type": "stream",
     "text": [
      "Train || Epoch: 0,  loss: 0.75683 || best_loss:  10000.00000\n",
      "Train || Epoch: 0,  loss: 0.58225 || best_loss:  10000.00000\n"
     ]
    },
    {
     "name": "stderr",
     "output_type": "stream",
     "text": [
      " 75%|█████████████████████████████████████████████████████████████                    | 58/77 [00:14<00:03,  5.19it/s]"
     ]
    },
    {
     "name": "stdout",
     "output_type": "stream",
     "text": [
      "Train || Epoch: 0,  loss: 0.60201 || best_loss:  10000.00000\n",
      "Train || Epoch: 0,  loss: 0.64738 || best_loss:  10000.00000\n"
     ]
    },
    {
     "name": "stderr",
     "output_type": "stream",
     "text": [
      " 78%|███████████████████████████████████████████████████████████████                  | 60/77 [00:14<00:03,  5.23it/s]"
     ]
    },
    {
     "name": "stdout",
     "output_type": "stream",
     "text": [
      "Train || Epoch: 0,  loss: 0.55127 || best_loss:  10000.00000\n",
      "Train || Epoch: 0,  loss: 0.51805 || best_loss:  10000.00000\n"
     ]
    },
    {
     "name": "stderr",
     "output_type": "stream",
     "text": [
      " 81%|█████████████████████████████████████████████████████████████████▏               | 62/77 [00:15<00:02,  5.23it/s]"
     ]
    },
    {
     "name": "stdout",
     "output_type": "stream",
     "text": [
      "Train || Epoch: 0,  loss: 0.44600 || best_loss:  10000.00000\n",
      "Train || Epoch: 0,  loss: 0.49823 || best_loss:  10000.00000\n"
     ]
    },
    {
     "name": "stderr",
     "output_type": "stream",
     "text": [
      " 83%|███████████████████████████████████████████████████████████████████▎             | 64/77 [00:15<00:02,  5.22it/s]"
     ]
    },
    {
     "name": "stdout",
     "output_type": "stream",
     "text": [
      "Train || Epoch: 0,  loss: 0.49326 || best_loss:  10000.00000\n",
      "Train || Epoch: 0,  loss: 0.39832 || best_loss:  10000.00000\n"
     ]
    },
    {
     "name": "stderr",
     "output_type": "stream",
     "text": [
      " 86%|█████████████████████████████████████████████████████████████████████▍           | 66/77 [00:16<00:02,  5.14it/s]"
     ]
    },
    {
     "name": "stdout",
     "output_type": "stream",
     "text": [
      "Train || Epoch: 0,  loss: 0.37339 || best_loss:  10000.00000\n",
      "Train || Epoch: 0,  loss: 0.35536 || best_loss:  10000.00000\n"
     ]
    },
    {
     "name": "stderr",
     "output_type": "stream",
     "text": [
      " 88%|███████████████████████████████████████████████████████████████████████▌         | 68/77 [00:16<00:01,  5.21it/s]"
     ]
    },
    {
     "name": "stdout",
     "output_type": "stream",
     "text": [
      "Train || Epoch: 0,  loss: 0.34040 || best_loss:  10000.00000\n",
      "Train || Epoch: 0,  loss: 0.31418 || best_loss:  10000.00000\n"
     ]
    },
    {
     "name": "stderr",
     "output_type": "stream",
     "text": [
      " 91%|█████████████████████████████████████████████████████████████████████████▋       | 70/77 [00:16<00:01,  5.24it/s]"
     ]
    },
    {
     "name": "stdout",
     "output_type": "stream",
     "text": [
      "Train || Epoch: 0,  loss: 0.25172 || best_loss:  10000.00000\n",
      "Train || Epoch: 0,  loss: 0.33787 || best_loss:  10000.00000\n"
     ]
    },
    {
     "name": "stderr",
     "output_type": "stream",
     "text": [
      " 94%|███████████████████████████████████████████████████████████████████████████▋     | 72/77 [00:17<00:00,  5.26it/s]"
     ]
    },
    {
     "name": "stdout",
     "output_type": "stream",
     "text": [
      "Train || Epoch: 0,  loss: 0.22429 || best_loss:  10000.00000\n",
      "Train || Epoch: 0,  loss: 0.27102 || best_loss:  10000.00000\n"
     ]
    },
    {
     "name": "stderr",
     "output_type": "stream",
     "text": [
      " 96%|█████████████████████████████████████████████████████████████████████████████▊   | 74/77 [00:17<00:00,  5.26it/s]"
     ]
    },
    {
     "name": "stdout",
     "output_type": "stream",
     "text": [
      "Train || Epoch: 0,  loss: 0.29514 || best_loss:  10000.00000\n",
      "Train || Epoch: 0,  loss: 0.24587 || best_loss:  10000.00000\n"
     ]
    },
    {
     "name": "stderr",
     "output_type": "stream",
     "text": [
      " 99%|███████████████████████████████████████████████████████████████████████████████▉ | 76/77 [00:17<00:00,  5.26it/s]"
     ]
    },
    {
     "name": "stdout",
     "output_type": "stream",
     "text": [
      "Train || Epoch: 0,  loss: 0.22971 || best_loss:  10000.00000\n",
      "Train || Epoch: 0,  loss: 0.18468 || best_loss:  10000.00000\n"
     ]
    },
    {
     "name": "stderr",
     "output_type": "stream",
     "text": [
      "100%|█████████████████████████████████████████████████████████████████████████████████| 77/77 [00:18<00:00,  4.25it/s]\n"
     ]
    },
    {
     "name": "stdout",
     "output_type": "stream",
     "text": [
      "Train || Epoch: 0,  loss: 0.25785 || best_loss:  10000.00000\n"
     ]
    },
    {
     "name": "stderr",
     "output_type": "stream",
     "text": [
      "100%|█████████████████████████████████████████████████████████████████████████████████| 77/77 [00:13<00:00,  5.65it/s]\n"
     ]
    },
    {
     "name": "stdout",
     "output_type": "stream",
     "text": [
      "*******************************************************\n",
      "Total validation loss: 0.23667079210281372\n",
      "*******************************************************\n",
      "Saving Model with a 9999.763671875 improvement in point loss\n",
      "*******************************************************\n"
     ]
    },
    {
     "name": "stderr",
     "output_type": "stream",
     "text": [
      "  3%|██▏                                                                               | 2/77 [00:02<01:34,  1.26s/it]"
     ]
    },
    {
     "name": "stdout",
     "output_type": "stream",
     "text": [
      "Train || Epoch: 1,  loss: 0.22089 || best_loss:  0.23667\n",
      "Train || Epoch: 1,  loss: 0.21306 || best_loss:  0.23667\n"
     ]
    },
    {
     "name": "stderr",
     "output_type": "stream",
     "text": [
      "  5%|████▎                                                                             | 4/77 [00:03<00:39,  1.83it/s]"
     ]
    },
    {
     "name": "stdout",
     "output_type": "stream",
     "text": [
      "Train || Epoch: 1,  loss: 0.23482 || best_loss:  0.23667\n",
      "Train || Epoch: 1,  loss: 0.22477 || best_loss:  0.23667\n"
     ]
    },
    {
     "name": "stderr",
     "output_type": "stream",
     "text": [
      "  8%|██████▍                                                                           | 6/77 [00:03<00:24,  2.92it/s]"
     ]
    },
    {
     "name": "stdout",
     "output_type": "stream",
     "text": [
      "Train || Epoch: 1,  loss: 0.18297 || best_loss:  0.23667\n",
      "Train || Epoch: 1,  loss: 0.25250 || best_loss:  0.23667\n"
     ]
    },
    {
     "name": "stderr",
     "output_type": "stream",
     "text": [
      " 10%|████████▌                                                                         | 8/77 [00:04<00:18,  3.79it/s]"
     ]
    },
    {
     "name": "stdout",
     "output_type": "stream",
     "text": [
      "Train || Epoch: 1,  loss: 0.18163 || best_loss:  0.23667\n",
      "Train || Epoch: 1,  loss: 0.21225 || best_loss:  0.23667\n"
     ]
    },
    {
     "name": "stderr",
     "output_type": "stream",
     "text": [
      " 13%|██████████▌                                                                      | 10/77 [00:04<00:15,  4.38it/s]"
     ]
    },
    {
     "name": "stdout",
     "output_type": "stream",
     "text": [
      "Train || Epoch: 1,  loss: 0.20743 || best_loss:  0.23667\n",
      "Train || Epoch: 1,  loss: 0.20196 || best_loss:  0.23667\n"
     ]
    },
    {
     "name": "stderr",
     "output_type": "stream",
     "text": [
      " 16%|████████████▌                                                                    | 12/77 [00:04<00:13,  4.70it/s]"
     ]
    },
    {
     "name": "stdout",
     "output_type": "stream",
     "text": [
      "Train || Epoch: 1,  loss: 0.16655 || best_loss:  0.23667\n",
      "Train || Epoch: 1,  loss: 0.15774 || best_loss:  0.23667\n"
     ]
    },
    {
     "name": "stderr",
     "output_type": "stream",
     "text": [
      " 18%|██████████████▋                                                                  | 14/77 [00:05<00:12,  4.91it/s]"
     ]
    },
    {
     "name": "stdout",
     "output_type": "stream",
     "text": [
      "Train || Epoch: 1,  loss: 0.20271 || best_loss:  0.23667\n",
      "Train || Epoch: 1,  loss: 0.13054 || best_loss:  0.23667\n"
     ]
    },
    {
     "name": "stderr",
     "output_type": "stream",
     "text": [
      " 21%|████████████████▊                                                                | 16/77 [00:05<00:12,  5.00it/s]"
     ]
    },
    {
     "name": "stdout",
     "output_type": "stream",
     "text": [
      "Train || Epoch: 1,  loss: 0.17894 || best_loss:  0.23667\n",
      "Train || Epoch: 1,  loss: 0.15804 || best_loss:  0.23667\n"
     ]
    },
    {
     "name": "stderr",
     "output_type": "stream",
     "text": [
      " 22%|█████████████████▉                                                               | 17/77 [00:05<00:12,  4.88it/s]"
     ]
    },
    {
     "name": "stdout",
     "output_type": "stream",
     "text": [
      "Train || Epoch: 1,  loss: 0.16656 || best_loss:  0.23667\n"
     ]
    },
    {
     "name": "stderr",
     "output_type": "stream",
     "text": [
      " 25%|███████████████████▉                                                             | 19/77 [00:06<00:11,  4.96it/s]"
     ]
    },
    {
     "name": "stdout",
     "output_type": "stream",
     "text": [
      "Train || Epoch: 1,  loss: 0.13882 || best_loss:  0.23667\n",
      "Train || Epoch: 1,  loss: 0.15845 || best_loss:  0.23667\n"
     ]
    },
    {
     "name": "stderr",
     "output_type": "stream",
     "text": [
      " 27%|██████████████████████                                                           | 21/77 [00:06<00:11,  4.99it/s]"
     ]
    },
    {
     "name": "stdout",
     "output_type": "stream",
     "text": [
      "Train || Epoch: 1,  loss: 0.20588 || best_loss:  0.23667\n",
      "Train || Epoch: 1,  loss: 0.17706 || best_loss:  0.23667\n"
     ]
    },
    {
     "name": "stderr",
     "output_type": "stream",
     "text": [
      " 30%|████████████████████████▏                                                        | 23/77 [00:07<00:10,  5.05it/s]"
     ]
    },
    {
     "name": "stdout",
     "output_type": "stream",
     "text": [
      "Train || Epoch: 1,  loss: 0.14417 || best_loss:  0.23667\n",
      "Train || Epoch: 1,  loss: 0.14731 || best_loss:  0.23667\n"
     ]
    },
    {
     "name": "stderr",
     "output_type": "stream",
     "text": [
      " 32%|██████████████████████████▎                                                      | 25/77 [00:07<00:10,  5.09it/s]"
     ]
    },
    {
     "name": "stdout",
     "output_type": "stream",
     "text": [
      "Train || Epoch: 1,  loss: 0.16406 || best_loss:  0.23667\n",
      "Train || Epoch: 1,  loss: 0.12735 || best_loss:  0.23667\n"
     ]
    },
    {
     "name": "stderr",
     "output_type": "stream",
     "text": [
      " 35%|████████████████████████████▍                                                    | 27/77 [00:07<00:09,  5.12it/s]"
     ]
    },
    {
     "name": "stdout",
     "output_type": "stream",
     "text": [
      "Train || Epoch: 1,  loss: 0.16594 || best_loss:  0.23667\n",
      "Train || Epoch: 1,  loss: 0.17086 || best_loss:  0.23667\n"
     ]
    },
    {
     "name": "stderr",
     "output_type": "stream",
     "text": [
      " 38%|██████████████████████████████▌                                                  | 29/77 [00:08<00:09,  5.12it/s]"
     ]
    },
    {
     "name": "stdout",
     "output_type": "stream",
     "text": [
      "Train || Epoch: 1,  loss: 0.10662 || best_loss:  0.23667\n",
      "Train || Epoch: 1,  loss: 0.13726 || best_loss:  0.23667\n"
     ]
    },
    {
     "name": "stderr",
     "output_type": "stream",
     "text": [
      " 40%|████████████████████████████████▌                                                | 31/77 [00:08<00:08,  5.14it/s]"
     ]
    },
    {
     "name": "stdout",
     "output_type": "stream",
     "text": [
      "Train || Epoch: 1,  loss: 0.12587 || best_loss:  0.23667\n",
      "Train || Epoch: 1,  loss: 0.20085 || best_loss:  0.23667\n"
     ]
    },
    {
     "name": "stderr",
     "output_type": "stream",
     "text": [
      " 43%|██████████████████████████████████▋                                              | 33/77 [00:09<00:08,  5.08it/s]"
     ]
    },
    {
     "name": "stdout",
     "output_type": "stream",
     "text": [
      "Train || Epoch: 1,  loss: 0.12863 || best_loss:  0.23667\n",
      "Train || Epoch: 1,  loss: 0.15097 || best_loss:  0.23667\n"
     ]
    },
    {
     "name": "stderr",
     "output_type": "stream",
     "text": [
      " 45%|████████████████████████████████████▊                                            | 35/77 [00:09<00:08,  5.04it/s]"
     ]
    },
    {
     "name": "stdout",
     "output_type": "stream",
     "text": [
      "Train || Epoch: 1,  loss: 0.17533 || best_loss:  0.23667\n",
      "Train || Epoch: 1,  loss: 0.21617 || best_loss:  0.23667\n"
     ]
    },
    {
     "name": "stderr",
     "output_type": "stream",
     "text": [
      " 48%|██████████████████████████████████████▉                                          | 37/77 [00:09<00:07,  5.10it/s]"
     ]
    },
    {
     "name": "stdout",
     "output_type": "stream",
     "text": [
      "Train || Epoch: 1,  loss: 0.14365 || best_loss:  0.23667\n",
      "Train || Epoch: 1,  loss: 0.12084 || best_loss:  0.23667\n"
     ]
    },
    {
     "name": "stderr",
     "output_type": "stream",
     "text": [
      " 51%|█████████████████████████████████████████                                        | 39/77 [00:10<00:07,  5.13it/s]"
     ]
    },
    {
     "name": "stdout",
     "output_type": "stream",
     "text": [
      "Train || Epoch: 1,  loss: 0.18507 || best_loss:  0.23667\n",
      "Train || Epoch: 1,  loss: 0.13721 || best_loss:  0.23667\n"
     ]
    },
    {
     "name": "stderr",
     "output_type": "stream",
     "text": [
      " 53%|███████████████████████████████████████████▏                                     | 41/77 [00:10<00:07,  5.12it/s]"
     ]
    },
    {
     "name": "stdout",
     "output_type": "stream",
     "text": [
      "Train || Epoch: 1,  loss: 0.13266 || best_loss:  0.23667\n",
      "Train || Epoch: 1,  loss: 0.20547 || best_loss:  0.23667\n"
     ]
    },
    {
     "name": "stderr",
     "output_type": "stream",
     "text": [
      " 56%|█████████████████████████████████████████████▏                                   | 43/77 [00:11<00:06,  5.11it/s]"
     ]
    },
    {
     "name": "stdout",
     "output_type": "stream",
     "text": [
      "Train || Epoch: 1,  loss: 0.13572 || best_loss:  0.23667\n",
      "Train || Epoch: 1,  loss: 0.14184 || best_loss:  0.23667\n"
     ]
    },
    {
     "name": "stderr",
     "output_type": "stream",
     "text": [
      " 58%|███████████████████████████████████████████████▎                                 | 45/77 [00:11<00:06,  5.09it/s]"
     ]
    },
    {
     "name": "stdout",
     "output_type": "stream",
     "text": [
      "Train || Epoch: 1,  loss: 0.11605 || best_loss:  0.23667\n",
      "Train || Epoch: 1,  loss: 0.13863 || best_loss:  0.23667\n"
     ]
    },
    {
     "name": "stderr",
     "output_type": "stream",
     "text": [
      " 61%|█████████████████████████████████████████████████▍                               | 47/77 [00:11<00:05,  5.10it/s]"
     ]
    },
    {
     "name": "stdout",
     "output_type": "stream",
     "text": [
      "Train || Epoch: 1,  loss: 0.16266 || best_loss:  0.23667\n",
      "Train || Epoch: 1,  loss: 0.12369 || best_loss:  0.23667\n"
     ]
    },
    {
     "name": "stderr",
     "output_type": "stream",
     "text": [
      " 64%|███████████████████████████████████████████████████▌                             | 49/77 [00:12<00:05,  5.12it/s]"
     ]
    },
    {
     "name": "stdout",
     "output_type": "stream",
     "text": [
      "Train || Epoch: 1,  loss: 0.11010 || best_loss:  0.23667\n",
      "Train || Epoch: 1,  loss: 0.13374 || best_loss:  0.23667\n"
     ]
    },
    {
     "name": "stderr",
     "output_type": "stream",
     "text": [
      " 66%|█████████████████████████████████████████████████████▋                           | 51/77 [00:12<00:05,  5.13it/s]"
     ]
    },
    {
     "name": "stdout",
     "output_type": "stream",
     "text": [
      "Train || Epoch: 1,  loss: 0.15919 || best_loss:  0.23667\n",
      "Train || Epoch: 1,  loss: 0.13669 || best_loss:  0.23667\n"
     ]
    },
    {
     "name": "stderr",
     "output_type": "stream",
     "text": [
      " 69%|███████████████████████████████████████████████████████▊                         | 53/77 [00:13<00:04,  5.10it/s]"
     ]
    },
    {
     "name": "stdout",
     "output_type": "stream",
     "text": [
      "Train || Epoch: 1,  loss: 0.13734 || best_loss:  0.23667\n",
      "Train || Epoch: 1,  loss: 0.11645 || best_loss:  0.23667\n"
     ]
    },
    {
     "name": "stderr",
     "output_type": "stream",
     "text": [
      " 71%|█████████████████████████████████████████████████████████▊                       | 55/77 [00:13<00:04,  5.15it/s]"
     ]
    },
    {
     "name": "stdout",
     "output_type": "stream",
     "text": [
      "Train || Epoch: 1,  loss: 0.08427 || best_loss:  0.23667\n",
      "Train || Epoch: 1,  loss: 0.10256 || best_loss:  0.23667\n"
     ]
    },
    {
     "name": "stderr",
     "output_type": "stream",
     "text": [
      " 74%|███████████████████████████████████████████████████████████▉                     | 57/77 [00:13<00:03,  5.18it/s]"
     ]
    },
    {
     "name": "stdout",
     "output_type": "stream",
     "text": [
      "Train || Epoch: 1,  loss: 0.12340 || best_loss:  0.23667\n",
      "Train || Epoch: 1,  loss: 0.13602 || best_loss:  0.23667\n"
     ]
    },
    {
     "name": "stderr",
     "output_type": "stream",
     "text": [
      " 77%|██████████████████████████████████████████████████████████████                   | 59/77 [00:14<00:03,  5.16it/s]"
     ]
    },
    {
     "name": "stdout",
     "output_type": "stream",
     "text": [
      "Train || Epoch: 1,  loss: 0.08861 || best_loss:  0.23667\n",
      "Train || Epoch: 1,  loss: 0.16572 || best_loss:  0.23667\n"
     ]
    },
    {
     "name": "stderr",
     "output_type": "stream",
     "text": [
      " 79%|████████████████████████████████████████████████████████████████▏                | 61/77 [00:14<00:03,  5.16it/s]"
     ]
    },
    {
     "name": "stdout",
     "output_type": "stream",
     "text": [
      "Train || Epoch: 1,  loss: 0.14919 || best_loss:  0.23667\n",
      "Train || Epoch: 1,  loss: 0.10850 || best_loss:  0.23667\n"
     ]
    },
    {
     "name": "stderr",
     "output_type": "stream",
     "text": [
      " 82%|██████████████████████████████████████████████████████████████████▎              | 63/77 [00:14<00:02,  5.18it/s]"
     ]
    },
    {
     "name": "stdout",
     "output_type": "stream",
     "text": [
      "Train || Epoch: 1,  loss: 0.11848 || best_loss:  0.23667\n",
      "Train || Epoch: 1,  loss: 0.15417 || best_loss:  0.23667\n"
     ]
    },
    {
     "name": "stderr",
     "output_type": "stream",
     "text": [
      " 84%|████████████████████████████████████████████████████████████████████▍            | 65/77 [00:15<00:02,  5.20it/s]"
     ]
    },
    {
     "name": "stdout",
     "output_type": "stream",
     "text": [
      "Train || Epoch: 1,  loss: 0.16681 || best_loss:  0.23667\n",
      "Train || Epoch: 1,  loss: 0.09785 || best_loss:  0.23667\n"
     ]
    },
    {
     "name": "stderr",
     "output_type": "stream",
     "text": [
      " 87%|██████████████████████████████████████████████████████████████████████▍          | 67/77 [00:15<00:01,  5.20it/s]"
     ]
    },
    {
     "name": "stdout",
     "output_type": "stream",
     "text": [
      "Train || Epoch: 1,  loss: 0.16056 || best_loss:  0.23667\n",
      "Train || Epoch: 1,  loss: 0.15472 || best_loss:  0.23667\n"
     ]
    },
    {
     "name": "stderr",
     "output_type": "stream",
     "text": [
      " 90%|████████████████████████████████████████████████████████████████████████▌        | 69/77 [00:16<00:01,  5.20it/s]"
     ]
    },
    {
     "name": "stdout",
     "output_type": "stream",
     "text": [
      "Train || Epoch: 1,  loss: 0.09318 || best_loss:  0.23667\n",
      "Train || Epoch: 1,  loss: 0.14176 || best_loss:  0.23667\n"
     ]
    },
    {
     "name": "stderr",
     "output_type": "stream",
     "text": [
      " 92%|██████████████████████████████████████████████████████████████████████████▋      | 71/77 [00:16<00:01,  5.21it/s]"
     ]
    },
    {
     "name": "stdout",
     "output_type": "stream",
     "text": [
      "Train || Epoch: 1,  loss: 0.10775 || best_loss:  0.23667\n",
      "Train || Epoch: 1,  loss: 0.10464 || best_loss:  0.23667\n"
     ]
    },
    {
     "name": "stderr",
     "output_type": "stream",
     "text": [
      " 95%|████████████████████████████████████████████████████████████████████████████▊    | 73/77 [00:16<00:00,  5.15it/s]"
     ]
    },
    {
     "name": "stdout",
     "output_type": "stream",
     "text": [
      "Train || Epoch: 1,  loss: 0.13734 || best_loss:  0.23667\n",
      "Train || Epoch: 1,  loss: 0.10728 || best_loss:  0.23667\n"
     ]
    },
    {
     "name": "stderr",
     "output_type": "stream",
     "text": [
      " 97%|██████████████████████████████████████████████████████████████████████████████▉  | 75/77 [00:17<00:00,  5.15it/s]"
     ]
    },
    {
     "name": "stdout",
     "output_type": "stream",
     "text": [
      "Train || Epoch: 1,  loss: 0.11263 || best_loss:  0.23667\n",
      "Train || Epoch: 1,  loss: 0.14455 || best_loss:  0.23667\n"
     ]
    },
    {
     "name": "stderr",
     "output_type": "stream",
     "text": [
      "100%|█████████████████████████████████████████████████████████████████████████████████| 77/77 [00:17<00:00,  4.37it/s]\n"
     ]
    },
    {
     "name": "stdout",
     "output_type": "stream",
     "text": [
      "Train || Epoch: 1,  loss: 0.10032 || best_loss:  0.23667\n",
      "Train || Epoch: 1,  loss: 0.14952 || best_loss:  0.23667\n"
     ]
    },
    {
     "name": "stderr",
     "output_type": "stream",
     "text": [
      "100%|█████████████████████████████████████████████████████████████████████████████████| 77/77 [00:13<00:00,  5.65it/s]\n"
     ]
    },
    {
     "name": "stdout",
     "output_type": "stream",
     "text": [
      "*******************************************************\n",
      "Total validation loss: 0.12364808470010757\n",
      "*******************************************************\n",
      "Saving Model with a 0.11302270740270615 improvement in point loss\n",
      "*******************************************************\n"
     ]
    },
    {
     "name": "stderr",
     "output_type": "stream",
     "text": [
      "  3%|██▏                                                                               | 2/77 [00:03<01:39,  1.33s/it]"
     ]
    },
    {
     "name": "stdout",
     "output_type": "stream",
     "text": [
      "Train || Epoch: 2,  loss: 0.10064 || best_loss:  0.12365\n",
      "Train || Epoch: 2,  loss: 0.13226 || best_loss:  0.12365\n"
     ]
    },
    {
     "name": "stderr",
     "output_type": "stream",
     "text": [
      "  5%|████▎                                                                             | 4/77 [00:03<00:41,  1.76it/s]"
     ]
    },
    {
     "name": "stdout",
     "output_type": "stream",
     "text": [
      "Train || Epoch: 2,  loss: 0.10637 || best_loss:  0.12365\n",
      "Train || Epoch: 2,  loss: 0.13519 || best_loss:  0.12365\n"
     ]
    },
    {
     "name": "stderr",
     "output_type": "stream",
     "text": [
      "  8%|██████▍                                                                           | 6/77 [00:03<00:25,  2.81it/s]"
     ]
    },
    {
     "name": "stdout",
     "output_type": "stream",
     "text": [
      "Train || Epoch: 2,  loss: 0.12858 || best_loss:  0.12365\n",
      "Train || Epoch: 2,  loss: 0.12051 || best_loss:  0.12365\n"
     ]
    },
    {
     "name": "stderr",
     "output_type": "stream",
     "text": [
      "                                                                                                                      "
     ]
    },
    {
     "name": "stdout",
     "output_type": "stream",
     "text": [
      "Train || Epoch: 2,  loss: 0.11371 || best_loss:  0.12365\n"
     ]
    },
    {
     "name": "stderr",
     "output_type": "stream",
     "text": [
      " 12%|█████████▌                                                                        | 9/77 [00:04<00:16,  4.01it/s]"
     ]
    },
    {
     "name": "stdout",
     "output_type": "stream",
     "text": [
      "Train || Epoch: 2,  loss: 0.07354 || best_loss:  0.12365\n",
      "Train || Epoch: 2,  loss: 0.15347 || best_loss:  0.12365\n"
     ]
    },
    {
     "name": "stderr",
     "output_type": "stream",
     "text": [
      " 14%|███████████▌                                                                     | 11/77 [00:04<00:14,  4.49it/s]"
     ]
    },
    {
     "name": "stdout",
     "output_type": "stream",
     "text": [
      "Train || Epoch: 2,  loss: 0.11550 || best_loss:  0.12365\n",
      "Train || Epoch: 2,  loss: 0.10360 || best_loss:  0.12365\n"
     ]
    },
    {
     "name": "stderr",
     "output_type": "stream",
     "text": [
      " 17%|█████████████▋                                                                   | 13/77 [00:05<00:13,  4.78it/s]"
     ]
    },
    {
     "name": "stdout",
     "output_type": "stream",
     "text": [
      "Train || Epoch: 2,  loss: 0.17947 || best_loss:  0.12365\n",
      "Train || Epoch: 2,  loss: 0.10820 || best_loss:  0.12365\n"
     ]
    },
    {
     "name": "stderr",
     "output_type": "stream",
     "text": [
      " 19%|███████████████▊                                                                 | 15/77 [00:05<00:12,  4.91it/s]"
     ]
    },
    {
     "name": "stdout",
     "output_type": "stream",
     "text": [
      "Train || Epoch: 2,  loss: 0.10807 || best_loss:  0.12365\n",
      "Train || Epoch: 2,  loss: 0.10801 || best_loss:  0.12365\n"
     ]
    },
    {
     "name": "stderr",
     "output_type": "stream",
     "text": [
      " 21%|████████████████▊                                                                | 16/77 [00:05<00:12,  4.93it/s]"
     ]
    },
    {
     "name": "stdout",
     "output_type": "stream",
     "text": [
      "Train || Epoch: 2,  loss: 0.13500 || best_loss:  0.12365\n"
     ]
    },
    {
     "name": "stderr",
     "output_type": "stream",
     "text": [
      " 22%|█████████████████▉                                                               | 17/77 [00:06<00:12,  4.75it/s]"
     ]
    },
    {
     "name": "stdout",
     "output_type": "stream",
     "text": [
      "Train || Epoch: 2,  loss: 0.13001 || best_loss:  0.12365\n"
     ]
    },
    {
     "name": "stderr",
     "output_type": "stream",
     "text": [
      " 25%|███████████████████▉                                                             | 19/77 [00:06<00:11,  4.86it/s]"
     ]
    },
    {
     "name": "stdout",
     "output_type": "stream",
     "text": [
      "Train || Epoch: 2,  loss: 0.09483 || best_loss:  0.12365\n",
      "Train || Epoch: 2,  loss: 0.11502 || best_loss:  0.12365\n"
     ]
    },
    {
     "name": "stderr",
     "output_type": "stream",
     "text": [
      " 27%|██████████████████████                                                           | 21/77 [00:06<00:11,  4.97it/s]"
     ]
    },
    {
     "name": "stdout",
     "output_type": "stream",
     "text": [
      "Train || Epoch: 2,  loss: 0.14047 || best_loss:  0.12365\n",
      "Train || Epoch: 2,  loss: 0.12781 || best_loss:  0.12365\n"
     ]
    },
    {
     "name": "stderr",
     "output_type": "stream",
     "text": [
      " 29%|███████████████████████▏                                                         | 22/77 [00:07<00:10,  5.01it/s]"
     ]
    },
    {
     "name": "stdout",
     "output_type": "stream",
     "text": [
      "Train || Epoch: 2,  loss: 0.11061 || best_loss:  0.12365\n"
     ]
    },
    {
     "name": "stderr",
     "output_type": "stream",
     "text": [
      " 30%|████████████████████████▏                                                        | 23/77 [00:07<00:10,  4.93it/s]"
     ]
    },
    {
     "name": "stdout",
     "output_type": "stream",
     "text": [
      "Train || Epoch: 2,  loss: 0.13240 || best_loss:  0.12365\n"
     ]
    },
    {
     "name": "stderr",
     "output_type": "stream",
     "text": [
      " 32%|██████████████████████████▎                                                      | 25/77 [00:07<00:10,  4.93it/s]"
     ]
    },
    {
     "name": "stdout",
     "output_type": "stream",
     "text": [
      "Train || Epoch: 2,  loss: 0.12218 || best_loss:  0.12365\n",
      "Train || Epoch: 2,  loss: 0.09418 || best_loss:  0.12365\n"
     ]
    },
    {
     "name": "stderr",
     "output_type": "stream",
     "text": [
      " 34%|███████████████████████████▎                                                     | 26/77 [00:08<00:10,  4.97it/s]"
     ]
    },
    {
     "name": "stdout",
     "output_type": "stream",
     "text": [
      "Train || Epoch: 2,  loss: 0.09057 || best_loss:  0.12365\n",
      "Train || Epoch: 2,  loss: 0.10777 || best_loss:  0.12365\n"
     ]
    },
    {
     "name": "stderr",
     "output_type": "stream",
     "text": [
      " 38%|██████████████████████████████▌                                                  | 29/77 [00:08<00:09,  5.01it/s]"
     ]
    },
    {
     "name": "stdout",
     "output_type": "stream",
     "text": [
      "Train || Epoch: 2,  loss: 0.09792 || best_loss:  0.12365\n",
      "Train || Epoch: 2,  loss: 0.11237 || best_loss:  0.12365\n"
     ]
    },
    {
     "name": "stderr",
     "output_type": "stream",
     "text": [
      " 40%|████████████████████████████████▌                                                | 31/77 [00:08<00:09,  5.05it/s]"
     ]
    },
    {
     "name": "stdout",
     "output_type": "stream",
     "text": [
      "Train || Epoch: 2,  loss: 0.11956 || best_loss:  0.12365\n",
      "Train || Epoch: 2,  loss: 0.11981 || best_loss:  0.12365\n"
     ]
    },
    {
     "name": "stderr",
     "output_type": "stream",
     "text": [
      " 42%|█████████████████████████████████▋                                               | 32/77 [00:09<00:08,  5.06it/s]"
     ]
    },
    {
     "name": "stdout",
     "output_type": "stream",
     "text": [
      "Train || Epoch: 2,  loss: 0.11337 || best_loss:  0.12365\n"
     ]
    },
    {
     "name": "stderr",
     "output_type": "stream",
     "text": [
      " 43%|██████████████████████████████████▋                                              | 33/77 [00:09<00:08,  4.95it/s]"
     ]
    },
    {
     "name": "stdout",
     "output_type": "stream",
     "text": [
      "Train || Epoch: 2,  loss: 0.13914 || best_loss:  0.12365\n"
     ]
    },
    {
     "name": "stderr",
     "output_type": "stream",
     "text": [
      " 45%|████████████████████████████████████▊                                            | 35/77 [00:09<00:08,  4.98it/s]"
     ]
    },
    {
     "name": "stdout",
     "output_type": "stream",
     "text": [
      "Train || Epoch: 2,  loss: 0.13251 || best_loss:  0.12365\n",
      "Train || Epoch: 2,  loss: 0.10311 || best_loss:  0.12365\n"
     ]
    },
    {
     "name": "stderr",
     "output_type": "stream",
     "text": [
      " 48%|██████████████████████████████████████▉                                          | 37/77 [00:10<00:08,  5.00it/s]"
     ]
    },
    {
     "name": "stdout",
     "output_type": "stream",
     "text": [
      "Train || Epoch: 2,  loss: 0.11733 || best_loss:  0.12365\n",
      "Train || Epoch: 2,  loss: 0.11626 || best_loss:  0.12365\n"
     ]
    },
    {
     "name": "stderr",
     "output_type": "stream",
     "text": [
      " 49%|███████████████████████████████████████▉                                         | 38/77 [00:10<00:07,  5.02it/s]"
     ]
    },
    {
     "name": "stdout",
     "output_type": "stream",
     "text": [
      "Train || Epoch: 2,  loss: 0.08735 || best_loss:  0.12365\n",
      "Train || Epoch: 2,  loss: 0.12140 || best_loss:  0.12365\n"
     ]
    },
    {
     "name": "stderr",
     "output_type": "stream",
     "text": [
      " 53%|███████████████████████████████████████████▏                                     | 41/77 [00:10<00:07,  4.98it/s]"
     ]
    },
    {
     "name": "stdout",
     "output_type": "stream",
     "text": [
      "Train || Epoch: 2,  loss: 0.14175 || best_loss:  0.12365\n",
      "Train || Epoch: 2,  loss: 0.14481 || best_loss:  0.12365\n"
     ]
    },
    {
     "name": "stderr",
     "output_type": "stream",
     "text": [
      " 56%|█████████████████████████████████████████████▏                                   | 43/77 [00:11<00:06,  5.01it/s]"
     ]
    },
    {
     "name": "stdout",
     "output_type": "stream",
     "text": [
      "Train || Epoch: 2,  loss: 0.12139 || best_loss:  0.12365\n",
      "Train || Epoch: 2,  loss: 0.08798 || best_loss:  0.12365\n"
     ]
    },
    {
     "name": "stderr",
     "output_type": "stream",
     "text": [
      " 57%|██████████████████████████████████████████████▎                                  | 44/77 [00:11<00:06,  5.01it/s]"
     ]
    },
    {
     "name": "stdout",
     "output_type": "stream",
     "text": [
      "Train || Epoch: 2,  loss: 0.11966 || best_loss:  0.12365\n"
     ]
    },
    {
     "name": "stderr",
     "output_type": "stream",
     "text": [
      " 58%|███████████████████████████████████████████████▎                                 | 45/77 [00:11<00:06,  4.98it/s]"
     ]
    },
    {
     "name": "stdout",
     "output_type": "stream",
     "text": [
      "Train || Epoch: 2,  loss: 0.11584 || best_loss:  0.12365\n"
     ]
    },
    {
     "name": "stderr",
     "output_type": "stream",
     "text": [
      " 61%|█████████████████████████████████████████████████▍                               | 47/77 [00:12<00:06,  4.99it/s]"
     ]
    },
    {
     "name": "stdout",
     "output_type": "stream",
     "text": [
      "Train || Epoch: 2,  loss: 0.12490 || best_loss:  0.12365\n",
      "Train || Epoch: 2,  loss: 0.08831 || best_loss:  0.12365\n"
     ]
    },
    {
     "name": "stderr",
     "output_type": "stream",
     "text": [
      " 62%|██████████████████████████████████████████████████▍                              | 48/77 [00:12<00:05,  5.01it/s]"
     ]
    },
    {
     "name": "stdout",
     "output_type": "stream",
     "text": [
      "Train || Epoch: 2,  loss: 0.13200 || best_loss:  0.12365\n"
     ]
    },
    {
     "name": "stderr",
     "output_type": "stream",
     "text": [
      " 65%|████████████████████████████████████████████████████▌                            | 50/77 [00:12<00:05,  5.03it/s]"
     ]
    },
    {
     "name": "stdout",
     "output_type": "stream",
     "text": [
      "Train || Epoch: 2,  loss: 0.15524 || best_loss:  0.12365\n",
      "Train || Epoch: 2,  loss: 0.13883 || best_loss:  0.12365\n"
     ]
    },
    {
     "name": "stderr",
     "output_type": "stream",
     "text": [
      " 68%|██████████████████████████████████████████████████████▋                          | 52/77 [00:13<00:04,  5.03it/s]"
     ]
    },
    {
     "name": "stdout",
     "output_type": "stream",
     "text": [
      "Train || Epoch: 2,  loss: 0.10409 || best_loss:  0.12365\n",
      "Train || Epoch: 2,  loss: 0.12586 || best_loss:  0.12365\n"
     ]
    },
    {
     "name": "stderr",
     "output_type": "stream",
     "text": [
      " 69%|███████████████████████████████████████████████████████▊                         | 53/77 [00:13<00:04,  5.04it/s]"
     ]
    },
    {
     "name": "stdout",
     "output_type": "stream",
     "text": [
      "Train || Epoch: 2,  loss: 0.12242 || best_loss:  0.12365\n",
      "Train || Epoch: 2,  loss: 0.14530 || best_loss:  0.12365\n"
     ]
    },
    {
     "name": "stderr",
     "output_type": "stream",
     "text": [
      " 73%|██████████████████████████████████████████████████████████▉                      | 56/77 [00:13<00:04,  5.07it/s]"
     ]
    },
    {
     "name": "stdout",
     "output_type": "stream",
     "text": [
      "Train || Epoch: 2,  loss: 0.12199 || best_loss:  0.12365\n",
      "Train || Epoch: 2,  loss: 0.12701 || best_loss:  0.12365\n"
     ]
    },
    {
     "name": "stderr",
     "output_type": "stream",
     "text": [
      " 75%|█████████████████████████████████████████████████████████████                    | 58/77 [00:14<00:03,  5.03it/s]"
     ]
    },
    {
     "name": "stdout",
     "output_type": "stream",
     "text": [
      "Train || Epoch: 2,  loss: 0.14731 || best_loss:  0.12365\n",
      "Train || Epoch: 2,  loss: 0.12053 || best_loss:  0.12365\n"
     ]
    },
    {
     "name": "stderr",
     "output_type": "stream",
     "text": [
      " 78%|███████████████████████████████████████████████████████████████                  | 60/77 [00:14<00:03,  5.05it/s]"
     ]
    },
    {
     "name": "stdout",
     "output_type": "stream",
     "text": [
      "Train || Epoch: 2,  loss: 0.07569 || best_loss:  0.12365\n",
      "Train || Epoch: 2,  loss: 0.10763 || best_loss:  0.12365\n"
     ]
    },
    {
     "name": "stderr",
     "output_type": "stream",
     "text": [
      " 81%|█████████████████████████████████████████████████████████████████▏               | 62/77 [00:15<00:02,  5.09it/s]"
     ]
    },
    {
     "name": "stdout",
     "output_type": "stream",
     "text": [
      "Train || Epoch: 2,  loss: 0.11999 || best_loss:  0.12365\n",
      "Train || Epoch: 2,  loss: 0.11384 || best_loss:  0.12365\n"
     ]
    },
    {
     "name": "stderr",
     "output_type": "stream",
     "text": [
      " 83%|███████████████████████████████████████████████████████████████████▎             | 64/77 [00:15<00:02,  5.11it/s]"
     ]
    },
    {
     "name": "stdout",
     "output_type": "stream",
     "text": [
      "Train || Epoch: 2,  loss: 0.07619 || best_loss:  0.12365\n",
      "Train || Epoch: 2,  loss: 0.09055 || best_loss:  0.12365\n"
     ]
    },
    {
     "name": "stderr",
     "output_type": "stream",
     "text": [
      " 86%|█████████████████████████████████████████████████████████████████████▍           | 66/77 [00:15<00:02,  5.10it/s]"
     ]
    },
    {
     "name": "stdout",
     "output_type": "stream",
     "text": [
      "Train || Epoch: 2,  loss: 0.12440 || best_loss:  0.12365\n",
      "Train || Epoch: 2,  loss: 0.12714 || best_loss:  0.12365\n"
     ]
    },
    {
     "name": "stderr",
     "output_type": "stream",
     "text": [
      "                                                                                                                      "
     ]
    },
    {
     "name": "stdout",
     "output_type": "stream",
     "text": [
      "Train || Epoch: 2,  loss: 0.11104 || best_loss:  0.12365\n"
     ]
    },
    {
     "name": "stderr",
     "output_type": "stream",
     "text": [
      " 90%|████████████████████████████████████████████████████████████████████████▌        | 69/77 [00:16<00:01,  5.07it/s]"
     ]
    },
    {
     "name": "stdout",
     "output_type": "stream",
     "text": [
      "Train || Epoch: 2,  loss: 0.13945 || best_loss:  0.12365\n",
      "Train || Epoch: 2,  loss: 0.10883 || best_loss:  0.12365\n"
     ]
    },
    {
     "name": "stderr",
     "output_type": "stream",
     "text": [
      " 92%|██████████████████████████████████████████████████████████████████████████▋      | 71/77 [00:16<00:01,  5.05it/s]"
     ]
    },
    {
     "name": "stdout",
     "output_type": "stream",
     "text": [
      "Train || Epoch: 2,  loss: 0.11788 || best_loss:  0.12365\n",
      "Train || Epoch: 2,  loss: 0.07500 || best_loss:  0.12365\n"
     ]
    },
    {
     "name": "stderr",
     "output_type": "stream",
     "text": [
      " 95%|████████████████████████████████████████████████████████████████████████████▊    | 73/77 [00:17<00:00,  5.06it/s]"
     ]
    },
    {
     "name": "stdout",
     "output_type": "stream",
     "text": [
      "Train || Epoch: 2,  loss: 0.11702 || best_loss:  0.12365\n",
      "Train || Epoch: 2,  loss: 0.12357 || best_loss:  0.12365\n"
     ]
    },
    {
     "name": "stderr",
     "output_type": "stream",
     "text": [
      " 97%|██████████████████████████████████████████████████████████████████████████████▉  | 75/77 [00:17<00:00,  5.06it/s]"
     ]
    },
    {
     "name": "stdout",
     "output_type": "stream",
     "text": [
      "Train || Epoch: 2,  loss: 0.10924 || best_loss:  0.12365\n",
      "Train || Epoch: 2,  loss: 0.09942 || best_loss:  0.12365\n"
     ]
    },
    {
     "name": "stderr",
     "output_type": "stream",
     "text": [
      "100%|█████████████████████████████████████████████████████████████████████████████████| 77/77 [00:18<00:00,  4.26it/s]\n"
     ]
    },
    {
     "name": "stdout",
     "output_type": "stream",
     "text": [
      "Train || Epoch: 2,  loss: 0.07169 || best_loss:  0.12365\n",
      "Train || Epoch: 2,  loss: 0.15122 || best_loss:  0.12365\n"
     ]
    },
    {
     "name": "stderr",
     "output_type": "stream",
     "text": [
      "100%|█████████████████████████████████████████████████████████████████████████████████| 77/77 [00:13<00:00,  5.71it/s]\n"
     ]
    },
    {
     "name": "stdout",
     "output_type": "stream",
     "text": [
      "*******************************************************\n",
      "Total validation loss: 0.1102433130145073\n",
      "*******************************************************\n",
      "Saving Model with a 0.01340477168560028 improvement in point loss\n",
      "*******************************************************\n"
     ]
    },
    {
     "name": "stderr",
     "output_type": "stream",
     "text": [
      "  3%|██▏                                                                               | 2/77 [00:02<01:34,  1.26s/it]"
     ]
    },
    {
     "name": "stdout",
     "output_type": "stream",
     "text": [
      "Train || Epoch: 3,  loss: 0.10822 || best_loss:  0.11024\n",
      "Train || Epoch: 3,  loss: 0.10012 || best_loss:  0.11024\n"
     ]
    },
    {
     "name": "stderr",
     "output_type": "stream",
     "text": [
      "  5%|████▎                                                                             | 4/77 [00:03<00:40,  1.82it/s]"
     ]
    },
    {
     "name": "stdout",
     "output_type": "stream",
     "text": [
      "Train || Epoch: 3,  loss: 0.11960 || best_loss:  0.11024\n",
      "Train || Epoch: 3,  loss: 0.10295 || best_loss:  0.11024\n"
     ]
    },
    {
     "name": "stderr",
     "output_type": "stream",
     "text": [
      "  8%|██████▍                                                                           | 6/77 [00:03<00:24,  2.89it/s]"
     ]
    },
    {
     "name": "stdout",
     "output_type": "stream",
     "text": [
      "Train || Epoch: 3,  loss: 0.09161 || best_loss:  0.11024\n",
      "Train || Epoch: 3,  loss: 0.13897 || best_loss:  0.11024\n"
     ]
    },
    {
     "name": "stderr",
     "output_type": "stream",
     "text": [
      "  9%|███████▍                                                                          | 7/77 [00:03<00:20,  3.36it/s]"
     ]
    },
    {
     "name": "stdout",
     "output_type": "stream",
     "text": [
      "Train || Epoch: 3,  loss: 0.10543 || best_loss:  0.11024\n"
     ]
    },
    {
     "name": "stderr",
     "output_type": "stream",
     "text": [
      " 10%|████████▌                                                                         | 8/77 [00:04<00:18,  3.70it/s]"
     ]
    },
    {
     "name": "stdout",
     "output_type": "stream",
     "text": [
      "Train || Epoch: 3,  loss: 0.07663 || best_loss:  0.11024\n"
     ]
    },
    {
     "name": "stderr",
     "output_type": "stream",
     "text": [
      " 12%|█████████▌                                                                        | 9/77 [00:04<00:16,  4.02it/s]"
     ]
    },
    {
     "name": "stdout",
     "output_type": "stream",
     "text": [
      "Train || Epoch: 3,  loss: 0.13164 || best_loss:  0.11024\n"
     ]
    },
    {
     "name": "stderr",
     "output_type": "stream",
     "text": [
      " 14%|███████████▌                                                                     | 11/77 [00:04<00:14,  4.48it/s]"
     ]
    },
    {
     "name": "stdout",
     "output_type": "stream",
     "text": [
      "Train || Epoch: 3,  loss: 0.10610 || best_loss:  0.11024\n",
      "Train || Epoch: 3,  loss: 0.12249 || best_loss:  0.11024\n"
     ]
    },
    {
     "name": "stderr",
     "output_type": "stream",
     "text": [
      " 17%|█████████████▋                                                                   | 13/77 [00:05<00:13,  4.77it/s]"
     ]
    },
    {
     "name": "stdout",
     "output_type": "stream",
     "text": [
      "Train || Epoch: 3,  loss: 0.06692 || best_loss:  0.11024\n",
      "Train || Epoch: 3,  loss: 0.13204 || best_loss:  0.11024\n"
     ]
    },
    {
     "name": "stderr",
     "output_type": "stream",
     "text": [
      " 19%|███████████████▊                                                                 | 15/77 [00:05<00:12,  4.91it/s]"
     ]
    },
    {
     "name": "stdout",
     "output_type": "stream",
     "text": [
      "Train || Epoch: 3,  loss: 0.11767 || best_loss:  0.11024\n",
      "Train || Epoch: 3,  loss: 0.08220 || best_loss:  0.11024\n"
     ]
    },
    {
     "name": "stderr",
     "output_type": "stream",
     "text": [
      " 21%|████████████████▊                                                                | 16/77 [00:05<00:12,  4.94it/s]"
     ]
    },
    {
     "name": "stdout",
     "output_type": "stream",
     "text": [
      "Train || Epoch: 3,  loss: 0.11215 || best_loss:  0.11024\n"
     ]
    },
    {
     "name": "stderr",
     "output_type": "stream",
     "text": [
      "                                                                                                                      "
     ]
    },
    {
     "name": "stdout",
     "output_type": "stream",
     "text": [
      "Train || Epoch: 3,  loss: 0.11101 || best_loss:  0.11024\n"
     ]
    },
    {
     "name": "stderr",
     "output_type": "stream",
     "text": [
      " 23%|██████████████████▉                                                              | 18/77 [00:06<00:12,  4.90it/s]"
     ]
    },
    {
     "name": "stdout",
     "output_type": "stream",
     "text": [
      "Train || Epoch: 3,  loss: 0.12691 || best_loss:  0.11024\n"
     ]
    },
    {
     "name": "stderr",
     "output_type": "stream",
     "text": [
      " 26%|█████████████████████                                                            | 20/77 [00:06<00:11,  4.89it/s]"
     ]
    },
    {
     "name": "stdout",
     "output_type": "stream",
     "text": [
      "Train || Epoch: 3,  loss: 0.11195 || best_loss:  0.11024\n",
      "Train || Epoch: 3,  loss: 0.11934 || best_loss:  0.11024\n"
     ]
    },
    {
     "name": "stderr",
     "output_type": "stream",
     "text": [
      " 29%|███████████████████████▏                                                         | 22/77 [00:07<00:11,  4.96it/s]"
     ]
    },
    {
     "name": "stdout",
     "output_type": "stream",
     "text": [
      "Train || Epoch: 3,  loss: 0.09996 || best_loss:  0.11024\n",
      "Train || Epoch: 3,  loss: 0.11753 || best_loss:  0.11024\n"
     ]
    },
    {
     "name": "stderr",
     "output_type": "stream",
     "text": [
      " 30%|████████████████████████▏                                                        | 23/77 [00:07<00:10,  4.98it/s]"
     ]
    },
    {
     "name": "stdout",
     "output_type": "stream",
     "text": [
      "Train || Epoch: 3,  loss: 0.15113 || best_loss:  0.11024\n"
     ]
    },
    {
     "name": "stderr",
     "output_type": "stream",
     "text": [
      "                                                                                                                      \r"
     ]
    },
    {
     "name": "stdout",
     "output_type": "stream",
     "text": [
      "Train || Epoch: 3,  loss: 0.07075 || best_loss:  0.11024\n"
     ]
    },
    {
     "name": "stderr",
     "output_type": "stream",
     "text": [
      " 34%|███████████████████████████▎                                                     | 26/77 [00:07<00:10,  4.97it/s]"
     ]
    },
    {
     "name": "stdout",
     "output_type": "stream",
     "text": [
      "Train || Epoch: 3,  loss: 0.12526 || best_loss:  0.11024\n",
      "Train || Epoch: 3,  loss: 0.14622 || best_loss:  0.11024\n"
     ]
    },
    {
     "name": "stderr",
     "output_type": "stream",
     "text": [
      " 36%|█████████████████████████████▍                                                   | 28/77 [00:08<00:09,  5.01it/s]"
     ]
    },
    {
     "name": "stdout",
     "output_type": "stream",
     "text": [
      "Train || Epoch: 3,  loss: 0.09402 || best_loss:  0.11024\n",
      "Train || Epoch: 3,  loss: 0.14845 || best_loss:  0.11024\n"
     ]
    },
    {
     "name": "stderr",
     "output_type": "stream",
     "text": [
      " 39%|███████████████████████████████▌                                                 | 30/77 [00:08<00:09,  5.02it/s]"
     ]
    },
    {
     "name": "stdout",
     "output_type": "stream",
     "text": [
      "Train || Epoch: 3,  loss: 0.13330 || best_loss:  0.11024\n",
      "Train || Epoch: 3,  loss: 0.09661 || best_loss:  0.11024\n"
     ]
    },
    {
     "name": "stderr",
     "output_type": "stream",
     "text": [
      " 42%|█████████████████████████████████▋                                               | 32/77 [00:09<00:08,  5.02it/s]"
     ]
    },
    {
     "name": "stdout",
     "output_type": "stream",
     "text": [
      "Train || Epoch: 3,  loss: 0.10340 || best_loss:  0.11024\n",
      "Train || Epoch: 3,  loss: 0.12891 || best_loss:  0.11024\n"
     ]
    },
    {
     "name": "stderr",
     "output_type": "stream",
     "text": [
      " 44%|███████████████████████████████████▊                                             | 34/77 [00:09<00:08,  4.97it/s]"
     ]
    },
    {
     "name": "stdout",
     "output_type": "stream",
     "text": [
      "Train || Epoch: 3,  loss: 0.13756 || best_loss:  0.11024\n",
      "Train || Epoch: 3,  loss: 0.10337 || best_loss:  0.11024\n"
     ]
    },
    {
     "name": "stderr",
     "output_type": "stream",
     "text": [
      " 47%|█████████████████████████████████████▊                                           | 36/77 [00:09<00:08,  4.95it/s]"
     ]
    },
    {
     "name": "stdout",
     "output_type": "stream",
     "text": [
      "Train || Epoch: 3,  loss: 0.10081 || best_loss:  0.11024\n",
      "Train || Epoch: 3,  loss: 0.12686 || best_loss:  0.11024\n"
     ]
    },
    {
     "name": "stderr",
     "output_type": "stream",
     "text": [
      " 49%|███████████████████████████████████████▉                                         | 38/77 [00:10<00:07,  5.02it/s]"
     ]
    },
    {
     "name": "stdout",
     "output_type": "stream",
     "text": [
      "Train || Epoch: 3,  loss: 0.10445 || best_loss:  0.11024\n",
      "Train || Epoch: 3,  loss: 0.12403 || best_loss:  0.11024\n"
     ]
    },
    {
     "name": "stderr",
     "output_type": "stream",
     "text": [
      " 51%|█████████████████████████████████████████                                        | 39/77 [00:10<00:07,  5.03it/s]"
     ]
    },
    {
     "name": "stdout",
     "output_type": "stream",
     "text": [
      "Train || Epoch: 3,  loss: 0.13380 || best_loss:  0.11024\n"
     ]
    },
    {
     "name": "stderr",
     "output_type": "stream",
     "text": [
      "                                                                                                                      \r"
     ]
    },
    {
     "name": "stdout",
     "output_type": "stream",
     "text": [
      "Train || Epoch: 3,  loss: 0.15395 || best_loss:  0.11024\n"
     ]
    },
    {
     "name": "stderr",
     "output_type": "stream",
     "text": [
      " 55%|████████████████████████████████████████████▏                                    | 42/77 [00:11<00:07,  4.98it/s]"
     ]
    },
    {
     "name": "stdout",
     "output_type": "stream",
     "text": [
      "Train || Epoch: 3,  loss: 0.08165 || best_loss:  0.11024\n",
      "Train || Epoch: 3,  loss: 0.15675 || best_loss:  0.11024\n",
      "Train || Epoch: 3,  loss: 0.09052 || best_loss:  0.11024\n"
     ]
    },
    {
     "name": "stderr",
     "output_type": "stream",
     "text": [
      " 57%|██████████████████████████████████████████████▎                                  | 44/77 [00:11<00:06,  5.00it/s]"
     ]
    },
    {
     "name": "stdout",
     "output_type": "stream",
     "text": [
      "Train || Epoch: 3,  loss: 0.08521 || best_loss:  0.11024\n"
     ]
    },
    {
     "name": "stderr",
     "output_type": "stream",
     "text": [
      "                                                                                                                      "
     ]
    },
    {
     "name": "stdout",
     "output_type": "stream",
     "text": [
      "Train || Epoch: 3,  loss: 0.09701 || best_loss:  0.11024\n"
     ]
    },
    {
     "name": "stderr",
     "output_type": "stream",
     "text": [
      "                                                                                                                      "
     ]
    },
    {
     "name": "stdout",
     "output_type": "stream",
     "text": [
      "Train || Epoch: 3,  loss: 0.10072 || best_loss:  0.11024\n"
     ]
    },
    {
     "name": "stderr",
     "output_type": "stream",
     "text": [
      " 62%|██████████████████████████████████████████████████▍                              | 48/77 [00:12<00:05,  4.99it/s]"
     ]
    },
    {
     "name": "stdout",
     "output_type": "stream",
     "text": [
      "Train || Epoch: 3,  loss: 0.17950 || best_loss:  0.11024\n",
      "Train || Epoch: 3,  loss: 0.06852 || best_loss:  0.11024\n"
     ]
    },
    {
     "name": "stderr",
     "output_type": "stream",
     "text": [
      " 65%|████████████████████████████████████████████████████▌                            | 50/77 [00:12<00:05,  4.98it/s]"
     ]
    },
    {
     "name": "stdout",
     "output_type": "stream",
     "text": [
      "Train || Epoch: 3,  loss: 0.13959 || best_loss:  0.11024\n",
      "Train || Epoch: 3,  loss: 0.10859 || best_loss:  0.11024\n"
     ]
    },
    {
     "name": "stderr",
     "output_type": "stream",
     "text": [
      " 68%|██████████████████████████████████████████████████████▋                          | 52/77 [00:13<00:04,  5.02it/s]"
     ]
    },
    {
     "name": "stdout",
     "output_type": "stream",
     "text": [
      "Train || Epoch: 3,  loss: 0.10302 || best_loss:  0.11024\n",
      "Train || Epoch: 3,  loss: 0.07546 || best_loss:  0.11024\n"
     ]
    },
    {
     "name": "stderr",
     "output_type": "stream",
     "text": [
      " 70%|████████████████████████████████████████████████████████▊                        | 54/77 [00:13<00:04,  5.08it/s]"
     ]
    },
    {
     "name": "stdout",
     "output_type": "stream",
     "text": [
      "Train || Epoch: 3,  loss: 0.10660 || best_loss:  0.11024\n",
      "Train || Epoch: 3,  loss: 0.09882 || best_loss:  0.11024\n"
     ]
    },
    {
     "name": "stderr",
     "output_type": "stream",
     "text": [
      "                                                                                                                      \r"
     ]
    },
    {
     "name": "stdout",
     "output_type": "stream",
     "text": [
      "Train || Epoch: 3,  loss: 0.09660 || best_loss:  0.11024\n"
     ]
    },
    {
     "name": "stderr",
     "output_type": "stream",
     "text": [
      " 75%|█████████████████████████████████████████████████████████████                    | 58/77 [00:14<00:03,  5.05it/s]"
     ]
    },
    {
     "name": "stdout",
     "output_type": "stream",
     "text": [
      "Train || Epoch: 3,  loss: 0.07994 || best_loss:  0.11024\n",
      "Train || Epoch: 3,  loss: 0.07642 || best_loss:  0.11024\n",
      "Train || Epoch: 3,  loss: 0.07999 || best_loss:  0.11024\n"
     ]
    },
    {
     "name": "stderr",
     "output_type": "stream",
     "text": [
      " 78%|███████████████████████████████████████████████████████████████                  | 60/77 [00:14<00:03,  5.09it/s]"
     ]
    },
    {
     "name": "stdout",
     "output_type": "stream",
     "text": [
      "Train || Epoch: 3,  loss: 0.09055 || best_loss:  0.11024\n",
      "Train || Epoch: 3,  loss: 0.11945 || best_loss:  0.11024\n"
     ]
    },
    {
     "name": "stderr",
     "output_type": "stream",
     "text": [
      " 81%|█████████████████████████████████████████████████████████████████▏               | 62/77 [00:14<00:02,  5.12it/s]"
     ]
    },
    {
     "name": "stdout",
     "output_type": "stream",
     "text": [
      "Train || Epoch: 3,  loss: 0.12011 || best_loss:  0.11024\n",
      "Train || Epoch: 3,  loss: 0.09945 || best_loss:  0.11024\n"
     ]
    },
    {
     "name": "stderr",
     "output_type": "stream",
     "text": [
      " 83%|███████████████████████████████████████████████████████████████████▎             | 64/77 [00:15<00:02,  5.14it/s]"
     ]
    },
    {
     "name": "stdout",
     "output_type": "stream",
     "text": [
      "Train || Epoch: 3,  loss: 0.14352 || best_loss:  0.11024\n",
      "Train || Epoch: 3,  loss: 0.09446 || best_loss:  0.11024\n"
     ]
    },
    {
     "name": "stderr",
     "output_type": "stream",
     "text": [
      " 86%|█████████████████████████████████████████████████████████████████████▍           | 66/77 [00:15<00:02,  5.14it/s]"
     ]
    },
    {
     "name": "stdout",
     "output_type": "stream",
     "text": [
      "Train || Epoch: 3,  loss: 0.10889 || best_loss:  0.11024\n",
      "Train || Epoch: 3,  loss: 0.10738 || best_loss:  0.11024\n"
     ]
    },
    {
     "name": "stderr",
     "output_type": "stream",
     "text": [
      " 88%|███████████████████████████████████████████████████████████████████████▌         | 68/77 [00:16<00:01,  5.15it/s]"
     ]
    },
    {
     "name": "stdout",
     "output_type": "stream",
     "text": [
      "Train || Epoch: 3,  loss: 0.09216 || best_loss:  0.11024\n",
      "Train || Epoch: 3,  loss: 0.11692 || best_loss:  0.11024\n"
     ]
    },
    {
     "name": "stderr",
     "output_type": "stream",
     "text": [
      " 91%|█████████████████████████████████████████████████████████████████████████▋       | 70/77 [00:16<00:01,  5.14it/s]"
     ]
    },
    {
     "name": "stdout",
     "output_type": "stream",
     "text": [
      "Train || Epoch: 3,  loss: 0.11101 || best_loss:  0.11024\n",
      "Train || Epoch: 3,  loss: 0.08444 || best_loss:  0.11024\n"
     ]
    },
    {
     "name": "stderr",
     "output_type": "stream",
     "text": [
      " 92%|██████████████████████████████████████████████████████████████████████████▋      | 71/77 [00:16<00:01,  5.12it/s]"
     ]
    },
    {
     "name": "stdout",
     "output_type": "stream",
     "text": [
      "Train || Epoch: 3,  loss: 0.08917 || best_loss:  0.11024\n"
     ]
    },
    {
     "name": "stderr",
     "output_type": "stream",
     "text": [
      "                                                                                                                      \r"
     ]
    },
    {
     "name": "stdout",
     "output_type": "stream",
     "text": [
      "Train || Epoch: 3,  loss: 0.10521 || best_loss:  0.11024\n"
     ]
    },
    {
     "name": "stderr",
     "output_type": "stream",
     "text": [
      " 96%|█████████████████████████████████████████████████████████████████████████████▊   | 74/77 [00:17<00:00,  5.04it/s]"
     ]
    },
    {
     "name": "stdout",
     "output_type": "stream",
     "text": [
      "Train || Epoch: 3,  loss: 0.08794 || best_loss:  0.11024\n",
      "Train || Epoch: 3,  loss: 0.08124 || best_loss:  0.11024\n"
     ]
    },
    {
     "name": "stderr",
     "output_type": "stream",
     "text": [
      " 99%|███████████████████████████████████████████████████████████████████████████████▉ | 76/77 [00:17<00:00,  5.08it/s]"
     ]
    },
    {
     "name": "stdout",
     "output_type": "stream",
     "text": [
      "Train || Epoch: 3,  loss: 0.10888 || best_loss:  0.11024\n",
      "Train || Epoch: 3,  loss: 0.07236 || best_loss:  0.11024\n"
     ]
    },
    {
     "name": "stderr",
     "output_type": "stream",
     "text": [
      "100%|█████████████████████████████████████████████████████████████████████████████████| 77/77 [00:17<00:00,  4.31it/s]\n"
     ]
    },
    {
     "name": "stdout",
     "output_type": "stream",
     "text": [
      "Train || Epoch: 3,  loss: 0.08448 || best_loss:  0.11024\n"
     ]
    },
    {
     "name": "stderr",
     "output_type": "stream",
     "text": [
      "100%|█████████████████████████████████████████████████████████████████████████████████| 77/77 [00:13<00:00,  5.74it/s]\n"
     ]
    },
    {
     "name": "stdout",
     "output_type": "stream",
     "text": [
      "*******************************************************\n",
      "Total validation loss: 0.08737704157829285\n",
      "*******************************************************\n",
      "Saving Model with a 0.022866271436214447 improvement in point loss\n",
      "*******************************************************\n"
     ]
    },
    {
     "name": "stderr",
     "output_type": "stream",
     "text": [
      "  1%|█                                                                                 | 1/77 [00:02<03:16,  2.59s/it]"
     ]
    },
    {
     "name": "stdout",
     "output_type": "stream",
     "text": [
      "Train || Epoch: 4,  loss: 0.07692 || best_loss:  0.08738\n"
     ]
    },
    {
     "name": "stderr",
     "output_type": "stream",
     "text": [
      "  3%|██▏                                                                               | 2/77 [00:02<01:29,  1.20s/it]"
     ]
    },
    {
     "name": "stdout",
     "output_type": "stream",
     "text": [
      "Train || Epoch: 4,  loss: 0.08992 || best_loss:  0.08738\n"
     ]
    },
    {
     "name": "stderr",
     "output_type": "stream",
     "text": [
      "  4%|███▏                                                                              | 3/77 [00:03<00:55,  1.34it/s]"
     ]
    },
    {
     "name": "stdout",
     "output_type": "stream",
     "text": [
      "Train || Epoch: 4,  loss: 0.13526 || best_loss:  0.08738\n"
     ]
    },
    {
     "name": "stderr",
     "output_type": "stream",
     "text": [
      "  6%|█████▎                                                                            | 5/77 [00:03<00:29,  2.43it/s]"
     ]
    },
    {
     "name": "stdout",
     "output_type": "stream",
     "text": [
      "Train || Epoch: 4,  loss: 0.07758 || best_loss:  0.08738\n",
      "Train || Epoch: 4,  loss: 0.13633 || best_loss:  0.08738\n"
     ]
    },
    {
     "name": "stderr",
     "output_type": "stream",
     "text": [
      "  9%|███████▍                                                                          | 7/77 [00:03<00:20,  3.40it/s]"
     ]
    },
    {
     "name": "stdout",
     "output_type": "stream",
     "text": [
      "Train || Epoch: 4,  loss: 0.05387 || best_loss:  0.08738\n",
      "Train || Epoch: 4,  loss: 0.09758 || best_loss:  0.08738\n"
     ]
    },
    {
     "name": "stderr",
     "output_type": "stream",
     "text": [
      " 12%|█████████▌                                                                        | 9/77 [00:04<00:16,  4.11it/s]"
     ]
    },
    {
     "name": "stdout",
     "output_type": "stream",
     "text": [
      "Train || Epoch: 4,  loss: 0.09885 || best_loss:  0.08738\n",
      "Train || Epoch: 4,  loss: 0.07809 || best_loss:  0.08738\n"
     ]
    },
    {
     "name": "stderr",
     "output_type": "stream",
     "text": [
      " 13%|██████████▌                                                                      | 10/77 [00:04<00:15,  4.35it/s]"
     ]
    },
    {
     "name": "stdout",
     "output_type": "stream",
     "text": [
      "Train || Epoch: 4,  loss: 0.10706 || best_loss:  0.08738\n"
     ]
    },
    {
     "name": "stderr",
     "output_type": "stream",
     "text": [
      " 14%|███████████▌                                                                     | 11/77 [00:04<00:14,  4.51it/s]"
     ]
    },
    {
     "name": "stdout",
     "output_type": "stream",
     "text": [
      "Train || Epoch: 4,  loss: 0.07291 || best_loss:  0.08738\n"
     ]
    },
    {
     "name": "stderr",
     "output_type": "stream",
     "text": [
      " 16%|████████████▌                                                                    | 12/77 [00:05<00:14,  4.64it/s]"
     ]
    },
    {
     "name": "stdout",
     "output_type": "stream",
     "text": [
      "Train || Epoch: 4,  loss: 0.09488 || best_loss:  0.08738\n",
      "Train || Epoch: 4,  loss: 0.10459 || best_loss:  0.08738\n"
     ]
    },
    {
     "name": "stderr",
     "output_type": "stream",
     "text": [
      "                                                                                                                      \r"
     ]
    },
    {
     "name": "stdout",
     "output_type": "stream",
     "text": [
      "Train || Epoch: 4,  loss: 0.11441 || best_loss:  0.08738\n"
     ]
    },
    {
     "name": "stderr",
     "output_type": "stream",
     "text": [
      " 21%|████████████████▊                                                                | 16/77 [00:05<00:12,  4.90it/s]"
     ]
    },
    {
     "name": "stdout",
     "output_type": "stream",
     "text": [
      "Train || Epoch: 4,  loss: 0.12205 || best_loss:  0.08738\n",
      "Train || Epoch: 4,  loss: 0.10860 || best_loss:  0.08738\n"
     ]
    },
    {
     "name": "stderr",
     "output_type": "stream",
     "text": [
      " 23%|██████████████████▉                                                              | 18/77 [00:06<00:12,  4.87it/s]"
     ]
    },
    {
     "name": "stdout",
     "output_type": "stream",
     "text": [
      "Train || Epoch: 4,  loss: 0.11089 || best_loss:  0.08738\n",
      "Train || Epoch: 4,  loss: 0.08226 || best_loss:  0.08738\n"
     ]
    },
    {
     "name": "stderr",
     "output_type": "stream",
     "text": [
      " 25%|███████████████████▉                                                             | 19/77 [00:06<00:11,  4.87it/s]"
     ]
    },
    {
     "name": "stdout",
     "output_type": "stream",
     "text": [
      "Train || Epoch: 4,  loss: 0.10233 || best_loss:  0.08738\n"
     ]
    },
    {
     "name": "stderr",
     "output_type": "stream",
     "text": [
      " 27%|██████████████████████                                                           | 21/77 [00:06<00:11,  4.85it/s]"
     ]
    },
    {
     "name": "stdout",
     "output_type": "stream",
     "text": [
      "Train || Epoch: 4,  loss: 0.09057 || best_loss:  0.08738\n",
      "Train || Epoch: 4,  loss: 0.12262 || best_loss:  0.08738\n"
     ]
    },
    {
     "name": "stderr",
     "output_type": "stream",
     "text": [
      " 29%|███████████████████████▏                                                         | 22/77 [00:06<00:11,  4.83it/s]"
     ]
    },
    {
     "name": "stdout",
     "output_type": "stream",
     "text": [
      "Train || Epoch: 4,  loss: 0.09333 || best_loss:  0.08738\n"
     ]
    },
    {
     "name": "stderr",
     "output_type": "stream",
     "text": [
      " 29%|███████████████████████▏                                                         | 22/77 [00:07<00:17,  3.09it/s]\n"
     ]
    },
    {
     "ename": "KeyboardInterrupt",
     "evalue": "",
     "output_type": "error",
     "traceback": [
      "\u001b[0;31m---------------------------------------------------------------------------\u001b[0m",
      "\u001b[0;31mKeyboardInterrupt\u001b[0m                         Traceback (most recent call last)",
      "\u001b[0;32m/tmp/ipykernel_353520/3784340749.py\u001b[0m in \u001b[0;36m<module>\u001b[0;34m\u001b[0m\n\u001b[1;32m     19\u001b[0m \u001b[0mparams\u001b[0m \u001b[0;34m=\u001b[0m \u001b[0mParams\u001b[0m\u001b[0;34m(\u001b[0m\u001b[0;34m)\u001b[0m\u001b[0;34m\u001b[0m\u001b[0;34m\u001b[0m\u001b[0m\n\u001b[1;32m     20\u001b[0m \u001b[0mtouch_trainer\u001b[0m \u001b[0;34m=\u001b[0m \u001b[0mtouch_train\u001b[0m\u001b[0;34m.\u001b[0m\u001b[0mEngine\u001b[0m\u001b[0;34m(\u001b[0m\u001b[0mparams\u001b[0m\u001b[0;34m)\u001b[0m\u001b[0;34m\u001b[0m\u001b[0;34m\u001b[0m\u001b[0m\n\u001b[0;32m---> 21\u001b[0;31m \u001b[0mtouch_trainer\u001b[0m\u001b[0;34m(\u001b[0m\u001b[0;34m)\u001b[0m\u001b[0;34m\u001b[0m\u001b[0;34m\u001b[0m\u001b[0m\n\u001b[0m\u001b[1;32m     22\u001b[0m \u001b[0;34m\u001b[0m\u001b[0m\n\u001b[1;32m     23\u001b[0m \u001b[0;34m\u001b[0m\u001b[0m\n",
      "\u001b[0;32m~/projects/active/ActiveTouch/pterotactyl/reconstruction/touch/train.py\u001b[0m in \u001b[0;36m__call__\u001b[0;34m(self)\u001b[0m\n\u001b[1;32m     63\u001b[0m                         \u001b[0;32mfor\u001b[0m \u001b[0mepoch\u001b[0m \u001b[0;32min\u001b[0m \u001b[0mrange\u001b[0m\u001b[0;34m(\u001b[0m\u001b[0mself\u001b[0m\u001b[0;34m.\u001b[0m\u001b[0margs\u001b[0m\u001b[0;34m.\u001b[0m\u001b[0mepochs\u001b[0m\u001b[0;34m)\u001b[0m\u001b[0;34m:\u001b[0m\u001b[0;34m\u001b[0m\u001b[0;34m\u001b[0m\u001b[0m\n\u001b[1;32m     64\u001b[0m                                 \u001b[0mself\u001b[0m\u001b[0;34m.\u001b[0m\u001b[0mepoch\u001b[0m \u001b[0;34m=\u001b[0m \u001b[0mepoch\u001b[0m\u001b[0;34m\u001b[0m\u001b[0;34m\u001b[0m\u001b[0m\n\u001b[0;32m---> 65\u001b[0;31m                                 \u001b[0mself\u001b[0m\u001b[0;34m.\u001b[0m\u001b[0mtrain\u001b[0m\u001b[0;34m(\u001b[0m\u001b[0mtrain_loader\u001b[0m\u001b[0;34m,\u001b[0m \u001b[0mwriter\u001b[0m\u001b[0;34m)\u001b[0m\u001b[0;34m\u001b[0m\u001b[0;34m\u001b[0m\u001b[0m\n\u001b[0m\u001b[1;32m     66\u001b[0m                                 \u001b[0;32mwith\u001b[0m \u001b[0mtorch\u001b[0m\u001b[0;34m.\u001b[0m\u001b[0mno_grad\u001b[0m\u001b[0;34m(\u001b[0m\u001b[0;34m)\u001b[0m\u001b[0;34m:\u001b[0m\u001b[0;34m\u001b[0m\u001b[0;34m\u001b[0m\u001b[0m\n\u001b[1;32m     67\u001b[0m                                         \u001b[0mself\u001b[0m\u001b[0;34m.\u001b[0m\u001b[0mvalidate\u001b[0m\u001b[0;34m(\u001b[0m\u001b[0mvalid_loader\u001b[0m\u001b[0;34m,\u001b[0m \u001b[0mwriter\u001b[0m\u001b[0;34m)\u001b[0m\u001b[0;34m\u001b[0m\u001b[0;34m\u001b[0m\u001b[0m\n",
      "\u001b[0;32m~/projects/active/ActiveTouch/pterotactyl/reconstruction/touch/train.py\u001b[0m in \u001b[0;36mtrain\u001b[0;34m(self, data, writer)\u001b[0m\n\u001b[1;32m    124\u001b[0m \u001b[0;34m\u001b[0m\u001b[0m\n\u001b[1;32m    125\u001b[0m                         \u001b[0;31m# backprop\u001b[0m\u001b[0;34m\u001b[0m\u001b[0;34m\u001b[0m\u001b[0;34m\u001b[0m\u001b[0m\n\u001b[0;32m--> 126\u001b[0;31m                         \u001b[0mloss\u001b[0m\u001b[0;34m.\u001b[0m\u001b[0mbackward\u001b[0m\u001b[0;34m(\u001b[0m\u001b[0;34m)\u001b[0m\u001b[0;34m\u001b[0m\u001b[0;34m\u001b[0m\u001b[0m\n\u001b[0m\u001b[1;32m    127\u001b[0m                         \u001b[0mself\u001b[0m\u001b[0;34m.\u001b[0m\u001b[0moptimizer\u001b[0m\u001b[0;34m.\u001b[0m\u001b[0mstep\u001b[0m\u001b[0;34m(\u001b[0m\u001b[0;34m)\u001b[0m\u001b[0;34m\u001b[0m\u001b[0;34m\u001b[0m\u001b[0m\n\u001b[1;32m    128\u001b[0m \u001b[0;34m\u001b[0m\u001b[0m\n",
      "\u001b[0;32m~/.local/lib/python3.8/site-packages/torch/tensor.py\u001b[0m in \u001b[0;36mbackward\u001b[0;34m(self, gradient, retain_graph, create_graph)\u001b[0m\n\u001b[1;32m    219\u001b[0m                 \u001b[0mretain_graph\u001b[0m\u001b[0;34m=\u001b[0m\u001b[0mretain_graph\u001b[0m\u001b[0;34m,\u001b[0m\u001b[0;34m\u001b[0m\u001b[0;34m\u001b[0m\u001b[0m\n\u001b[1;32m    220\u001b[0m                 create_graph=create_graph)\n\u001b[0;32m--> 221\u001b[0;31m         \u001b[0mtorch\u001b[0m\u001b[0;34m.\u001b[0m\u001b[0mautograd\u001b[0m\u001b[0;34m.\u001b[0m\u001b[0mbackward\u001b[0m\u001b[0;34m(\u001b[0m\u001b[0mself\u001b[0m\u001b[0;34m,\u001b[0m \u001b[0mgradient\u001b[0m\u001b[0;34m,\u001b[0m \u001b[0mretain_graph\u001b[0m\u001b[0;34m,\u001b[0m \u001b[0mcreate_graph\u001b[0m\u001b[0;34m)\u001b[0m\u001b[0;34m\u001b[0m\u001b[0;34m\u001b[0m\u001b[0m\n\u001b[0m\u001b[1;32m    222\u001b[0m \u001b[0;34m\u001b[0m\u001b[0m\n\u001b[1;32m    223\u001b[0m     \u001b[0;32mdef\u001b[0m \u001b[0mregister_hook\u001b[0m\u001b[0;34m(\u001b[0m\u001b[0mself\u001b[0m\u001b[0;34m,\u001b[0m \u001b[0mhook\u001b[0m\u001b[0;34m)\u001b[0m\u001b[0;34m:\u001b[0m\u001b[0;34m\u001b[0m\u001b[0;34m\u001b[0m\u001b[0m\n",
      "\u001b[0;32m~/.local/lib/python3.8/site-packages/torch/autograd/__init__.py\u001b[0m in \u001b[0;36mbackward\u001b[0;34m(tensors, grad_tensors, retain_graph, create_graph, grad_variables)\u001b[0m\n\u001b[1;32m    128\u001b[0m         \u001b[0mretain_graph\u001b[0m \u001b[0;34m=\u001b[0m \u001b[0mcreate_graph\u001b[0m\u001b[0;34m\u001b[0m\u001b[0;34m\u001b[0m\u001b[0m\n\u001b[1;32m    129\u001b[0m \u001b[0;34m\u001b[0m\u001b[0m\n\u001b[0;32m--> 130\u001b[0;31m     Variable._execution_engine.run_backward(\n\u001b[0m\u001b[1;32m    131\u001b[0m         \u001b[0mtensors\u001b[0m\u001b[0;34m,\u001b[0m \u001b[0mgrad_tensors_\u001b[0m\u001b[0;34m,\u001b[0m \u001b[0mretain_graph\u001b[0m\u001b[0;34m,\u001b[0m \u001b[0mcreate_graph\u001b[0m\u001b[0;34m,\u001b[0m\u001b[0;34m\u001b[0m\u001b[0;34m\u001b[0m\u001b[0m\n\u001b[1;32m    132\u001b[0m         allow_unreachable=True)  # allow_unreachable flag\n",
      "\u001b[0;31mKeyboardInterrupt\u001b[0m: "
     ]
    }
   ],
   "source": [
    "from pterotactyl.reconstruction.touch import train as touch_train \n",
    "\n",
    "class Params: # define training arguments \n",
    "    def __init__(self):\n",
    "        self.seed = 0 \n",
    "        self.limit_data = False\n",
    "        self.epochs = 30\n",
    "        self.lr = 0.0001\n",
    "        self.eval = False\n",
    "        self.pretrained = False\n",
    "        self.batch_size = 128\n",
    "        self.num_samples = 4000\n",
    "        self.loss_coeff = 9000\n",
    "        self.exp_id = \"example\"\n",
    "        self.exp_type = \"example\"\n",
    "        self.patience = 10\n",
    "    \n",
    "\n",
    "params = Params()\n",
    "touch_trainer = touch_train.Engine(params)\n",
    "touch_trainer()\n",
    "\n",
    "\n"
   ]
  },
  {
   "cell_type": "markdown",
   "metadata": {},
   "source": [
    "<h2> 2. Touch Chart - Evaluation </h2> "
   ]
  },
  {
   "cell_type": "code",
   "execution_count": 4,
   "metadata": {
    "pycharm": {
     "name": "#%%\n"
    }
   },
   "outputs": [
    {
     "name": "stderr",
     "output_type": "stream",
     "text": [
      "100%|█████████████████████████████████████████████████████████████████████████| 26782/26782 [00:07<00:00, 3488.37it/s]\n"
     ]
    },
    {
     "name": "stdout",
     "output_type": "stream",
     "text": [
      "The number of test set objects found : 9785\n"
     ]
    },
    {
     "name": "stderr",
     "output_type": "stream",
     "text": [
      "100%|█████████████████████████████████████████████████████████████████████████████████| 77/77 [00:13<00:00,  5.63it/s]"
     ]
    },
    {
     "name": "stdout",
     "output_type": "stream",
     "text": [
      "*******************************************************\n",
      "Total validation loss: 0.08738978207111359\n",
      "*******************************************************\n"
     ]
    },
    {
     "name": "stderr",
     "output_type": "stream",
     "text": [
      "\n"
     ]
    }
   ],
   "source": [
    "from pterotactyl.reconstruction.touch import train as touch_train \n",
    "\n",
    "params.eval = True\n",
    "params.pretrained = False\n",
    "\n",
    "touch_trainer = touch_train.Engine(params)\n",
    "touch_trainer()"
   ]
  },
  {
   "cell_type": "markdown",
   "metadata": {},
   "source": [
    "<h2> 3. Touch Chart - Pretrained </h2> "
   ]
  },
  {
   "cell_type": "code",
   "execution_count": 5,
   "metadata": {},
   "outputs": [
    {
     "name": "stderr",
     "output_type": "stream",
     "text": [
      "100%|████████████████████████████████████████████████████████████████████████| 26782/26782 [00:01<00:00, 16029.17it/s]\n"
     ]
    },
    {
     "name": "stdout",
     "output_type": "stream",
     "text": [
      "The number of test set objects found : 9785\n"
     ]
    },
    {
     "name": "stderr",
     "output_type": "stream",
     "text": [
      "100%|█████████████████████████████████████████████████████████████████████████████████| 77/77 [00:13<00:00,  5.74it/s]"
     ]
    },
    {
     "name": "stdout",
     "output_type": "stream",
     "text": [
      "*******************************************************\n",
      "Total validation loss: 0.015664221718907356\n",
      "*******************************************************\n"
     ]
    },
    {
     "name": "stderr",
     "output_type": "stream",
     "text": [
      "\n"
     ]
    }
   ],
   "source": [
    "from pterotactyl.reconstruction.touch import train as touch_train \n",
    "\n",
    "params.eval = True\n",
    "params.pretrained = True\n",
    "\n",
    "touch_trainer = touch_train.Engine(params)\n",
    "touch_trainer()"
   ]
  },
  {
   "cell_type": "code",
   "execution_count": null,
   "metadata": {},
   "outputs": [],
   "source": []
  }
 ],
 "metadata": {
  "kernelspec": {
   "display_name": "policies",
   "language": "python",
   "name": "policies"
  },
  "language_info": {
   "codemirror_mode": {
    "name": "ipython",
    "version": 3
   },
   "file_extension": ".py",
   "mimetype": "text/x-python",
   "name": "python",
   "nbconvert_exporter": "python",
   "pygments_lexer": "ipython3",
   "version": "3.8.11"
  },
  "pycharm": {
   "stem_cell": {
    "cell_type": "raw",
    "metadata": {
     "collapsed": false
    },
    "source": []
   }
  }
 },
 "nbformat": 4,
 "nbformat_minor": 5
}
